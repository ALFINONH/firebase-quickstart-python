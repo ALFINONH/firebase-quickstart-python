{
  "nbformat": 4,
  "nbformat_minor": 0,
  "metadata": {
    "colab": {
      "name": "Firebase ML API Tutorial",
      "provenance": [],
      "collapsed_sections": [],
      "toc_visible": true
    },
    "kernelspec": {
      "name": "python3",
      "display_name": "Python 3"
    }
  },
  "cells": [
    {
      "cell_type": "markdown",
      "metadata": {
        "id": "ZRvF80bJ1imr",
        "colab_type": "text"
      },
      "source": [
        "```\n",
        "# Copyright 2020 Google LLC\n",
        "#\n",
        "# Licensed under the Apache License, Version 2.0 (the \"License\");\n",
        "# you may not use this file except in compliance with the License.\n",
        "# You may obtain a copy of the License at\n",
        "#\n",
        "#     https://www.apache.org/licenses/LICENSE-2.0\n",
        "#\n",
        "# Unless required by applicable law or agreed to in writing, software\n",
        "# distributed under the License is distributed on an \"AS IS\" BASIS,\n",
        "# WITHOUT WARRANTIES OR CONDITIONS OF ANY KIND, either express or implied.\n",
        "# See the License for the specific language governing permissions and\n",
        "# limitations under the License.\n",
        "```"
      ]
    },
    {
      "cell_type": "markdown",
      "metadata": {
        "id": "XK1TC6JmaSo5",
        "colab_type": "text"
      },
      "source": [
        "This Colab demonstrates how you can use the Firebase Admin Python SDK from a Jupyter notebook to manage your Firebase-hosted ML models."
      ]
    },
    {
      "cell_type": "markdown",
      "metadata": {
        "id": "ThfwN5km4l7X",
        "colab_type": "text"
      },
      "source": [
        "# **1. Install the Admin SDK and TensorFlow** "
      ]
    },
    {
      "cell_type": "markdown",
      "metadata": {
        "id": "x4qsJu_y4onY",
        "colab_type": "text"
      },
      "source": [
        "Install the Firebase Admin SDK and TensorFlow. If you're running this notebook in a Google Colab environment, you can skip this step."
      ]
    },
    {
      "cell_type": "code",
      "metadata": {
        "id": "1sTVOhJC20Ce",
        "colab_type": "code",
        "colab": {}
      },
      "source": [
        "%pip install 'firebase_admin>=4.1.0'\n",
        "%pip install 'tensorflow>=2.1.0'"
      ],
      "execution_count": 0,
      "outputs": []
    },
    {
      "cell_type": "markdown",
      "metadata": {
        "id": "xTklrznZYR_F",
        "colab_type": "text"
      },
      "source": [
        "# **2. Set up a Firebase project**"
      ]
    },
    {
      "cell_type": "markdown",
      "metadata": {
        "id": "CHjogYcnYcgb",
        "colab_type": "text"
      },
      "source": [
        "Before you can continue, you need to set up a Firebase project:\n",
        "\n",
        "1.  If you don't already have a Firebase project, create a new project in the [Firebase console](https://console.firebase.google.com/). Then, open your project and do the following:\n",
        "\n",
        "    1.  On the [Settings](https://console.firebase.google.com/project/_/settings/serviceaccounts/adminsdk) page, create a service account and download the service account key file. Keep this file safe, since it grants administrator access to your project.\n",
        "\n",
        "    1.  On the [Storage](https://console.firebase.google.com/project/_/storage) page, enable Cloud Storage. Take note of your bucket name.\n",
        "\n",
        "        You need a Storage bucket to temporarily store model files while adding them to your Firebase project. If you are on the Blaze plan, you can create and use a bucket other than the default for this purpose.\n",
        "\n",
        "    1.  On the [ML Kit](https://console.firebase.google.com/project/_/ml) page, click **Get started** if you haven't yet enabled ML Kit.\n",
        "\n",
        "1.  In the [Google APIs console](https://console.developers.google.com/apis/library/firebaseml.googleapis.com?project=_), open your Firebase project and enable the Firebase ML API.\n",
        "\n"
      ]
    },
    {
      "cell_type": "markdown",
      "metadata": {
        "id": "qJ07z89GsNqh",
        "colab_type": "text"
      },
      "source": [
        "# **3. Upload the json service account key file for your project to the runtime**"
      ]
    },
    {
      "cell_type": "markdown",
      "metadata": {
        "id": "A9w5FJ0cXia2",
        "colab_type": "text"
      },
      "source": [
        "Then, upload the service account key file you got in the previous step:"
      ]
    },
    {
      "cell_type": "code",
      "metadata": {
        "id": "8OeMQU9az4gh",
        "colab_type": "code",
        "colab": {}
      },
      "source": [
        "from google.colab import files\n",
        "\n",
        "uploaded = files.upload()\n",
        "service_acct_file = next(iter(uploaded)) # The name of the first uploaded file"
      ],
      "execution_count": 0,
      "outputs": []
    },
    {
      "cell_type": "markdown",
      "metadata": {
        "id": "HEVNf2rxwgfo",
        "colab_type": "text"
      },
      "source": [
        "# **4. Set your Google Application Credentials location**"
      ]
    },
    {
      "cell_type": "markdown",
      "metadata": {
        "id": "39qaiVVqeA51",
        "colab_type": "text"
      },
      "source": [
        "Set the `GOOGLE_APPLICATION_CREDENTIALS` environmental variable to the location of the key file:"
      ]
    },
    {
      "cell_type": "code",
      "metadata": {
        "id": "fdGKEWCH1SsT",
        "colab_type": "code",
        "colab": {}
      },
      "source": [
        "import os\n",
        "os.environ[\"GOOGLE_APPLICATION_CREDENTIALS\"]=\"/content/{0}\".format(service_acct_file)"
      ],
      "execution_count": 0,
      "outputs": []
    },
    {
      "cell_type": "markdown",
      "metadata": {
        "id": "ma-McTrY0cGE",
        "colab_type": "text"
      },
      "source": [
        "# **5. Initialize Firebase Admin**"
      ]
    },
    {
      "cell_type": "markdown",
      "metadata": {
        "id": "X9xyubP_ekA5",
        "colab_type": "text"
      },
      "source": [
        "Import the `firebase_admin` module and initialize the SDK with the name of your Storage bucket. Be sure the Storage bucket is in the same Firebase project as your service account. Your project's default bucket looks like `your-project-id.appspot.com`."
      ]
    },
    {
      "cell_type": "code",
      "metadata": {
        "id": "2sLO335O7IIF",
        "colab_type": "code",
        "colab": {}
      },
      "source": [
        "storage_bucket = input('Storage bucket (no \"gs://\"): ')"
      ],
      "execution_count": 0,
      "outputs": []
    },
    {
      "cell_type": "code",
      "metadata": {
        "id": "YxYkdFBs0oS1",
        "colab_type": "code",
        "colab": {}
      },
      "source": [
        "import firebase_admin\n",
        "from firebase_admin import ml\n",
        "\n",
        "firebase_admin.initialize_app(options={'storageBucket': storage_bucket})"
      ],
      "execution_count": 0,
      "outputs": []
    },
    {
      "cell_type": "markdown",
      "metadata": {
        "id": "DLOmPtM77wMI",
        "colab_type": "text"
      },
      "source": [
        "# **6. Train your model**"
      ]
    },
    {
      "cell_type": "markdown",
      "metadata": {
        "id": "oNEyKOO_ivrO",
        "colab_type": "text"
      },
      "source": [
        "Next, train your model.\n",
        "\n",
        "In a real notebook, you'd use a model architecture designed for your use case and provide your own training data. For this demo, just train a trivial model:"
      ]
    },
    {
      "cell_type": "code",
      "metadata": {
        "id": "6lrYxa4Z70Xp",
        "colab_type": "code",
        "colab": {}
      },
      "source": [
        "import tensorflow as tf\n",
        "\n",
        "# Create a simple Keras model.\n",
        "x = [-1, 0, 1, 2, 3, 4]\n",
        "y = [-3, -1, 1, 3, 5, 7]\n",
        "\n",
        "model_binary = tf.keras.models.Sequential(\n",
        "    [tf.keras.layers.Dense(units=1, input_shape=[1])])\n",
        "model_binary.compile(optimizer='sgd', loss='mean_squared_error')\n",
        "model_binary.fit(x, y, epochs=3)"
      ],
      "execution_count": 0,
      "outputs": []
    },
    {
      "cell_type": "markdown",
      "metadata": {
        "id": "1LK9d37xYDet",
        "colab_type": "text"
      },
      "source": [
        "# **7. Convert & upload your model**"
      ]
    },
    {
      "cell_type": "markdown",
      "metadata": {
        "id": "mGe3os8Xkf7F",
        "colab_type": "text"
      },
      "source": [
        "Now that you have a trained model, you can upload it to Firebase and make it available to your iOS and Android apps.\n",
        "\n",
        "First, convert the model to TensorFlow Lite and upload it to Cloud Storage. With the Admin SDK, this is a single call:"
      ]
    },
    {
      "cell_type": "code",
      "metadata": {
        "id": "SLZvUStHa7T3",
        "colab_type": "code",
        "colab": {}
      },
      "source": [
        "# This takes the Keras model, converts it to a TFLite model, and uploads it to\n",
        "# your bucket as my_model.tflite\n",
        "source = ml.TFLiteGCSModelSource.from_keras_model(model_binary, 'my_model.tflite')\n",
        "print (source.gcs_tflite_uri)"
      ],
      "execution_count": 0,
      "outputs": []
    },
    {
      "cell_type": "markdown",
      "metadata": {
        "id": "RRA56_U9o2P9",
        "colab_type": "text"
      },
      "source": [
        "# **8. Create a Model object**"
      ]
    },
    {
      "cell_type": "markdown",
      "metadata": {
        "id": "HzB_CV5yo9Ms",
        "colab_type": "text"
      },
      "source": [
        "Next, create a `Model` object, specifying the model's Cloud Storage source and the name of your model. (You will use the name you specify here to download the model in your iOS and Android apps.)"
      ]
    },
    {
      "cell_type": "code",
      "metadata": {
        "id": "rljlmVwgo1dk",
        "colab_type": "code",
        "colab": {}
      },
      "source": [
        "model_format = ml.TFLiteFormat(model_source=source)\n",
        "sdk_model_1 = ml.Model(display_name=\"my_model_1\", model_format=model_format)"
      ],
      "execution_count": 0,
      "outputs": []
    },
    {
      "cell_type": "markdown",
      "metadata": {
        "id": "0Hd7aZrpdOqm",
        "colab_type": "text"
      },
      "source": [
        "# **9. Add the model to your Firebase project**"
      ]
    },
    {
      "cell_type": "markdown",
      "metadata": {
        "id": "ZEMJ-B2LqhPt",
        "colab_type": "text"
      },
      "source": [
        "Add the model to your Firebase project by calling `create_model()`. When you do so, the model gets copied from Cloud Storage.\n",
        "\n",
        "Note that this step will fail if your project already has a model named `my_model_1`. If this happens, [delete the model with the Firebase console](https://console.firebase.google.com/project/_/ml/custom) and try again."
      ]
    },
    {
      "cell_type": "code",
      "metadata": {
        "id": "AOjQVSU2eG8v",
        "colab_type": "code",
        "colab": {}
      },
      "source": [
        "firebase_model_1 = ml.create_model(sdk_model_1)\n",
        "if firebase_model_1.validation_error:\n",
        "  raise Exception(firebase_model_1.validation_error)\n",
        "print(firebase_model_1.as_dict())"
      ],
      "execution_count": 0,
      "outputs": []
    },
    {
      "cell_type": "markdown",
      "metadata": {
        "id": "lMthadQ4qU32",
        "colab_type": "text"
      },
      "source": [
        "#**10. Publish the model**"
      ]
    },
    {
      "cell_type": "markdown",
      "metadata": {
        "id": "oNTN-XEFvd7g",
        "colab_type": "text"
      },
      "source": [
        "Finally, publish your model:"
      ]
    },
    {
      "cell_type": "code",
      "metadata": {
        "id": "qK2S0KD7qbIB",
        "colab_type": "code",
        "colab": {}
      },
      "source": [
        "model_id = firebase_model_1.model_id\n",
        "firebase_model_1 = ml.publish_model(model_id)"
      ],
      "execution_count": 0,
      "outputs": []
    },
    {
      "cell_type": "markdown",
      "metadata": {
        "id": "IpxBS8HzvvWm",
        "colab_type": "text"
      },
      "source": [
        "Now that you've published the model, you can [use it in your apps](https://firebase.google.com/docs/ml-kit/use-custom-models)."
      ]
    },
    {
      "cell_type": "markdown",
      "metadata": {
        "id": "ZHSN6vM7b_pH",
        "colab_type": "text"
      },
      "source": [
        "# **11. Create a second model (so we can update)**"
      ]
    },
    {
      "cell_type": "markdown",
      "metadata": {
        "id": "lhuuTNtHwduW",
        "colab_type": "text"
      },
      "source": [
        "You can update a published model with a new model file. When you do so, client apps automatically download and use the new model.\n",
        "\n",
        "For demonstration purposes, first save one of Keras's prepackaged models to a saved model directory:"
      ]
    },
    {
      "cell_type": "code",
      "metadata": {
        "id": "1pLVpHi4cF6e",
        "colab_type": "code",
        "colab": {}
      },
      "source": [
        "tf.saved_model.save(tf.keras.applications.MobileNet(), '/tmp/saved_model/1')"
      ],
      "execution_count": 0,
      "outputs": []
    },
    {
      "cell_type": "markdown",
      "metadata": {
        "id": "veOOV0ZxjMf-",
        "colab_type": "text"
      },
      "source": [
        "#**12. Create a second model source and model format from the new model**"
      ]
    },
    {
      "cell_type": "markdown",
      "metadata": {
        "id": "XIyAhNEFGNIN",
        "colab_type": "text"
      },
      "source": [
        "Now, convert the saved model to TensorFlow Lite and upload it to Cloud Storage. This time, you're converting a TensorFlow saved model to TensorFlow Lite, but you could also convert a Keras model like you did earlier, or convert a Keras model saved as an HDF5 (`.h5`) file."
      ]
    },
    {
      "cell_type": "code",
      "metadata": {
        "id": "hn5IgonpjWmy",
        "colab_type": "code",
        "colab": {}
      },
      "source": [
        "# This takes the saved model directory, converts it to TFLite and writes it to your bucket as my_model_2.tflite\n",
        "source2 = ml.TFLiteGCSModelSource.from_saved_model('/tmp/saved_model/1', 'my_model_2.tflite')"
      ],
      "execution_count": 0,
      "outputs": []
    },
    {
      "cell_type": "markdown",
      "metadata": {
        "id": "wtXV_x7ko1Dz",
        "colab_type": "text"
      },
      "source": [
        "#**13. Modify the local model and then call the API Update**"
      ]
    },
    {
      "cell_type": "markdown",
      "metadata": {
        "id": "m2WyUn4SJWEC",
        "colab_type": "text"
      },
      "source": [
        "Change the original `Model` object's model source and (optionally) metadata, then call `update_model()`:"
      ]
    },
    {
      "cell_type": "code",
      "metadata": {
        "id": "MiRQi2Iqo8PK",
        "colab_type": "code",
        "colab": {}
      },
      "source": [
        "model_format2 = ml.TFLiteFormat(model_source=source2)\n",
        "firebase_model_1.model_format = model_format2\n",
        "firebase_model_1.tags = ['tag1', 'tag2'] # replaces any existing tags with these tags.\n",
        "\n",
        "firebase_model_2 = ml.update_model(firebase_model_1)\n",
        "if firebase_model_2.validation_error:\n",
        "  raise Exception(firebase_model_2.validation_error)\n",
        "print(firebase_model_2.as_dict())\n"
      ],
      "execution_count": 0,
      "outputs": []
    },
    {
      "cell_type": "markdown",
      "metadata": {
        "id": "uZzu3k5EXMma",
        "colab_type": "text"
      },
      "source": [
        "#**14. Publish the model_format2 model**"
      ]
    },
    {
      "cell_type": "markdown",
      "metadata": {
        "id": "XaiWqq4EkWBU",
        "colab_type": "text"
      },
      "source": [
        "After you update the model, re-publish it:"
      ]
    },
    {
      "cell_type": "code",
      "metadata": {
        "id": "iGsNmx2oXUFS",
        "colab_type": "code",
        "colab": {}
      },
      "source": [
        "firebase_model_2 = ml.publish_model(model_id)\n",
        "print(firebase_model_2.as_dict())"
      ],
      "execution_count": 0,
      "outputs": []
    },
    {
      "cell_type": "markdown",
      "metadata": {
        "id": "m2YmhA4Ab1DH",
        "colab_type": "text"
      },
      "source": [
        "#**15. Get the model**"
      ]
    },
    {
      "cell_type": "markdown",
      "metadata": {
        "id": "_01adxyEk0JN",
        "colab_type": "text"
      },
      "source": [
        "If you need to get a `Model` object from one of your project's models, use `get_model()`:"
      ]
    },
    {
      "cell_type": "code",
      "metadata": {
        "id": "9Q1jQXYJb4qx",
        "colab_type": "code",
        "colab": {}
      },
      "source": [
        "firebase_model_get = ml.get_model(model_id)\n",
        "print(firebase_model_get.as_dict())"
      ],
      "execution_count": 0,
      "outputs": []
    },
    {
      "cell_type": "markdown",
      "metadata": {
        "id": "OphmZAVdcqxO",
        "colab_type": "text"
      },
      "source": [
        "#**16. List the models**"
      ]
    },
    {
      "cell_type": "markdown",
      "metadata": {
        "id": "kOIjFLyGlpyq",
        "colab_type": "text"
      },
      "source": [
        "To list your project's models, iterate over the result of `list_models()`:"
      ]
    },
    {
      "cell_type": "code",
      "metadata": {
        "id": "ebJBI9NVcwjp",
        "colab_type": "code",
        "colab": {}
      },
      "source": [
        "firebase_models_list = ml.list_models()\n",
        "iterator = firebase_models_list.iterate_all()\n",
        "for m in iterator:\n",
        "  print(m.as_dict())"
      ],
      "execution_count": 0,
      "outputs": []
    },
    {
      "cell_type": "markdown",
      "metadata": {
        "id": "p_4yAHeFg7BA",
        "colab_type": "text"
      },
      "source": [
        "#**17. Make more models so we can show lists better**"
      ]
    },
    {
      "cell_type": "markdown",
      "metadata": {
        "id": "9vOkbq1lmA2B",
        "colab_type": "text"
      },
      "source": [
        "The Admin SDK can help you manage projects with many models.\n",
        "\n",
        "To demonstrate this, create some more models:"
      ]
    },
    {
      "cell_type": "code",
      "metadata": {
        "id": "ce3zB3HLhCTf",
        "colab_type": "code",
        "colab": {}
      },
      "source": [
        "list_model_1 = ml.create_model(ml.Model(display_name='my_model_2', tags=['tag2', 'tag3'], model_format=model_format))\n",
        "list_model_2 = ml.create_model(ml.Model(display_name='my_model_3', tags=['tag3'], model_format=model_format))\n",
        "list_model_3 = ml.create_model(ml.Model(display_name='cat_model_1', tags=['cat'], model_format=model_format))\n",
        "list_model_4 = ml.create_model(ml.Model(display_name='cat_model_2', tags=['cat'], model_format=model_format))\n",
        "list_model_5 = ml.create_model(ml.Model(display_name='new_cat_model_007', tags=['cat'], model_format=model_format))"
      ],
      "execution_count": 0,
      "outputs": []
    },
    {
      "cell_type": "markdown",
      "metadata": {
        "id": "QmxpYBsQnua4",
        "colab_type": "text"
      },
      "source": [
        "#**18. Publish some of them**"
      ]
    },
    {
      "cell_type": "markdown",
      "metadata": {
        "id": "OvYY0orEmtsT",
        "colab_type": "text"
      },
      "source": [
        "And publish some of them:"
      ]
    },
    {
      "cell_type": "code",
      "metadata": {
        "id": "x6kzkhWjnyXr",
        "colab_type": "code",
        "colab": {}
      },
      "source": [
        "list_model_2 = ml.publish_model(list_model_2.model_id)\n",
        "list_model_4 = ml.publish_model(list_model_4.model_id)"
      ],
      "execution_count": 0,
      "outputs": []
    },
    {
      "cell_type": "markdown",
      "metadata": {
        "id": "aAIAexOTpkVu",
        "colab_type": "text"
      },
      "source": [
        "#**19. Listing with page size**"
      ]
    },
    {
      "cell_type": "markdown",
      "metadata": {
        "id": "BZC1dbfnm43F",
        "colab_type": "text"
      },
      "source": [
        "You can specify how many results to return at a time:"
      ]
    },
    {
      "cell_type": "code",
      "metadata": {
        "id": "kf3rUxE0pqzJ",
        "colab_type": "code",
        "colab": {}
      },
      "source": [
        "firebase_models_list_2 = ml.list_models(page_size=3)\n",
        "for m in firebase_models_list_2.models:\n",
        "  print (m.as_dict())"
      ],
      "execution_count": 0,
      "outputs": []
    },
    {
      "cell_type": "markdown",
      "metadata": {
        "id": "V0WpL3UarTlA",
        "colab_type": "text"
      },
      "source": [
        "#**20. Listing the next page**"
      ]
    },
    {
      "cell_type": "markdown",
      "metadata": {
        "id": "iPh886g2nNm9",
        "colab_type": "text"
      },
      "source": [
        "Get the next page of results:"
      ]
    },
    {
      "cell_type": "code",
      "metadata": {
        "id": "iodXtP_XrYGT",
        "colab_type": "code",
        "colab": {}
      },
      "source": [
        "firebase_models_list_3 = firebase_models_list_2.get_next_page()\n",
        "for m in firebase_models_list_3.models:\n",
        "  print (m.as_dict())"
      ],
      "execution_count": 0,
      "outputs": []
    },
    {
      "cell_type": "markdown",
      "metadata": {
        "id": "LJwxO53KnYHA",
        "colab_type": "text"
      },
      "source": [
        "When you retrieve the final page, `get_next_page()` returns `None`."
      ]
    },
    {
      "cell_type": "markdown",
      "metadata": {
        "id": "Xbv-NAm5tT_5",
        "colab_type": "text"
      },
      "source": [
        "#**21. Filtering lists**"
      ]
    },
    {
      "cell_type": "markdown",
      "metadata": {
        "id": "-aNfitPHoF9P",
        "colab_type": "text"
      },
      "source": [
        "You can also filter the results.\n",
        "\n",
        "Filter by display name:"
      ]
    },
    {
      "cell_type": "code",
      "metadata": {
        "id": "9eS1kVSwtgwJ",
        "colab_type": "code",
        "colab": {}
      },
      "source": [
        "firebase_models_list = ml.list_models(list_filter='display_name=cat_model_1')\n",
        "for m in firebase_models_list.models:\n",
        "  print (m.as_dict())\n"
      ],
      "execution_count": 0,
      "outputs": []
    },
    {
      "cell_type": "markdown",
      "metadata": {
        "id": "mLNhAGtjuxqF",
        "colab_type": "text"
      },
      "source": [
        "Filter by display name prefix (note that only prefix matching is supported; you can't do general wildcard matching):"
      ]
    },
    {
      "cell_type": "code",
      "metadata": {
        "id": "YpihoJvnu1PU",
        "colab_type": "code",
        "colab": {}
      },
      "source": [
        "firebase_models_list = ml.list_models(list_filter='display_name:cat_*')\n",
        "for m in firebase_models_list.models:\n",
        "  print (m.as_dict())"
      ],
      "execution_count": 0,
      "outputs": []
    },
    {
      "cell_type": "markdown",
      "metadata": {
        "id": "e54EB4ngwBM6",
        "colab_type": "text"
      },
      "source": [
        "Filter by tag:"
      ]
    },
    {
      "cell_type": "code",
      "metadata": {
        "colab_type": "code",
        "id": "woK9u8P0wJ0a",
        "colab": {}
      },
      "source": [
        "firebase_models_list = ml.list_models(list_filter='tags: cat')\n",
        "for m in firebase_models_list.models:\n",
        "  print (m.as_dict())"
      ],
      "execution_count": 0,
      "outputs": []
    },
    {
      "cell_type": "markdown",
      "metadata": {
        "id": "ZrSJImzSyRoI",
        "colab_type": "text"
      },
      "source": [
        "Filter by publish state:"
      ]
    },
    {
      "cell_type": "code",
      "metadata": {
        "colab_type": "code",
        "id": "G2xmcFuMyXRX",
        "colab": {}
      },
      "source": [
        "firebase_models_list = ml.list_models(list_filter='state.published = true')\n",
        "for m in firebase_models_list.models:\n",
        "  print (m.as_dict())"
      ],
      "execution_count": 0,
      "outputs": []
    },
    {
      "cell_type": "markdown",
      "metadata": {
        "id": "-EagFFnwzyI5",
        "colab_type": "text"
      },
      "source": [
        "Combine filters:"
      ]
    },
    {
      "cell_type": "code",
      "metadata": {
        "colab_type": "code",
        "id": "3U40mUaQz9KE",
        "colab": {}
      },
      "source": [
        "firebase_models_list = ml.list_models(list_filter='(display_name: cat_* OR tags: tag3) AND NOT state.published = true')\n",
        "for m in firebase_models_list.models:\n",
        "  print (m.as_dict())"
      ],
      "execution_count": 0,
      "outputs": []
    },
    {
      "cell_type": "markdown",
      "metadata": {
        "id": "sYur7GCQBVas",
        "colab_type": "text"
      },
      "source": [
        "# **22. Clean up**"
      ]
    },
    {
      "cell_type": "markdown",
      "metadata": {
        "id": "v1BKMU30Blnr",
        "colab_type": "text"
      },
      "source": [
        "That's it!\n",
        "\n",
        "Clean up by deleting the example models:"
      ]
    },
    {
      "cell_type": "code",
      "metadata": {
        "id": "wGRXAfFiCHOF",
        "colab_type": "code",
        "colab": {}
      },
      "source": [
        "ml.delete_model(model_id)\n",
        "ml.delete_model(list_model_1.model_id)\n",
        "ml.delete_model(list_model_2.model_id)\n",
        "ml.delete_model(list_model_3.model_id)\n",
        "ml.delete_model(list_model_4.model_id)\n",
        "ml.delete_model(list_model_5.model_id)"
      ],
      "execution_count": 0,
      "outputs": []
    }
  ]
}